{
 "cells": [
  {
   "cell_type": "code",
   "execution_count": 2,
   "id": "5d899225-7c9e-449c-9b57-2ee780f1e164",
   "metadata": {},
   "outputs": [],
   "source": [
    "db_path = \"database_recordings\"\n",
    "fingerprint_path = \"fingerprints\"\n",
    "query_path = \"query_recordings\"\n",
    "output_path = \"query_output.txt\""
   ]
  },
  {
   "cell_type": "code",
   "execution_count": 3,
   "id": "3ade8850-ee79-44c5-ba69-f1c02b90555b",
   "metadata": {},
   "outputs": [],
   "source": [
    "import pandas as pd"
   ]
  },
  {
   "cell_type": "markdown",
   "id": "3e342a22-9f22-4f8a-9657-961958173789",
   "metadata": {},
   "source": [
    "## Build fingerprints and save to Fingerprints folder"
   ]
  },
  {
   "cell_type": "code",
   "execution_count": 15,
   "id": "6874b9e3-2a1b-4448-ad42-9bc5d8ed0dd7",
   "metadata": {},
   "outputs": [],
   "source": [
    "from fingerprint import fingerprintBuilder"
   ]
  },
  {
   "cell_type": "code",
   "execution_count": 16,
   "id": "6027691d-758e-496b-abd3-a10e62f13e0d",
   "metadata": {},
   "outputs": [
    {
     "name": "stdout",
     "output_type": "stream",
     "text": [
      "Initialized fingerprint builder with overlap_factor 64 and window_size 0.37\n"
     ]
    },
    {
     "name": "stderr",
     "output_type": "stream",
     "text": [
      "100%|██████████| 200/200 [03:03<00:00,  1.09it/s]\n"
     ]
    }
   ],
   "source": [
    "fpb = fingerprintBuilder()\n",
    "fpb.overlap_factor=64\n",
    "fpb(db_path, fingerprint_path)"
   ]
  },
  {
   "cell_type": "markdown",
   "id": "963f7245-1eb3-4cfd-b6b0-ffcc6f0d65b9",
   "metadata": {},
   "source": [
    "## Run audio identification on query files"
   ]
  },
  {
   "cell_type": "code",
   "execution_count": 4,
   "id": "4ec20e9e-1f10-4d4b-a206-bbcb3afc723a",
   "metadata": {},
   "outputs": [],
   "source": [
    "from audio_identification import audioIdentification"
   ]
  },
  {
   "cell_type": "markdown",
   "id": "40ebaaba-af9d-4684-86e0-f7a9d9e3ee8d",
   "metadata": {},
   "source": [
    "### Test overlap factor 32, simple search algo"
   ]
  },
  {
   "cell_type": "code",
   "execution_count": 15,
   "id": "b7ba45e8-de81-4317-9f0b-7ae6da0c45db",
   "metadata": {
    "scrolled": true
   },
   "outputs": [
    {
     "name": "stdout",
     "output_type": "stream",
     "text": [
      "Initialized fingerprint builder with overlap_factor 64 and window_size 0.37\n",
      "Initialized audio identification\n",
      "Reading fingerprints from fingerprints/fingerprints_32.pkl\n",
      "Loading fingerprints to hash table\n",
      "Matching queries in query_recordings...\n"
     ]
    },
    {
     "name": "stderr",
     "output_type": "stream",
     "text": [
      "100%|██████████| 213/213 [01:05<00:00,  3.28it/s]\n"
     ]
    }
   ],
   "source": [
    "# Run audio identifier\n",
    "aid = audioIdentification()\n",
    "aid.overlap_factor=32\n",
    "aid(query_path, fingerprint_path, output_path)"
   ]
  },
  {
   "cell_type": "code",
   "execution_count": 16,
   "id": "2ab58c6d-0ceb-407d-b3d5-9352cc7d1a97",
   "metadata": {},
   "outputs": [],
   "source": [
    "# Load results and measure eval metrics\n",
    "path = 'simple_32_query_output.txt'"
   ]
  },
  {
   "cell_type": "code",
   "execution_count": 17,
   "id": "58b2c8c4-9899-4a3f-930d-e8fef672bf4c",
   "metadata": {},
   "outputs": [],
   "source": [
    "d = []\n",
    "with open(path,'rb') as source:\n",
    "    for line in source:\n",
    "        # print(line)\n",
    "        fields = line.decode(\"utf-8\").split('\\t')\n",
    "        d.append(fields)\n",
    "\n",
    "df = pd.DataFrame(d)\n",
    "df.columns=['actual', 'rank1', 'rank2', 'rank3']\n",
    "df = df.fillna('NA')"
   ]
  },
  {
   "cell_type": "code",
   "execution_count": 19,
   "id": "168353fb-9503-4a8b-8b7d-8e55069c6830",
   "metadata": {},
   "outputs": [
    {
     "name": "stdout",
     "output_type": "stream",
     "text": [
      "Accuracy@1: 0.06103286384976526\n",
      "Accuracy@2: 0.07981220657276995\n",
      "Accuracy@3: 0.07981220657276995\n"
     ]
    }
   ],
   "source": [
    "df['rank1'] = df['rank1'].apply(lambda x: x.split('.wav')[0])\n",
    "df['rank2'] = df['rank2'].apply(lambda x: x.split('.wav')[0])\n",
    "df['rank3'] = df['rank3'].apply(lambda x: x.split('.wav')[0])\n",
    "\n",
    "rank1_count = df.apply(lambda x: x.rank1 in x.actual, axis=1).sum()\n",
    "rank2_count = df.apply(lambda x: (x.rank1 in x.actual) | (x.rank2 in x.actual), axis=1).sum()\n",
    "rank3_count = df.apply(lambda x: (x.rank1 in x.actual) | (x.rank2 in x.actual) | (x.rank3 in x.actual), axis=1).sum()\n",
    "\n",
    "print(f\"Accuracy@1: {rank1_count/df.shape[0]}\")\n",
    "print(f\"Accuracy@2: {rank2_count/df.shape[0]}\")\n",
    "print(f\"Accuracy@3: {rank3_count/df.shape[0]}\")"
   ]
  },
  {
   "cell_type": "markdown",
   "id": "dee311b6-f226-4981-ab14-7916dde6f0f6",
   "metadata": {},
   "source": [
    "### Test overlap factor 32, complex search algo"
   ]
  },
  {
   "cell_type": "code",
   "execution_count": 3,
   "id": "77b658ce-96bd-4840-9692-40ee7557210c",
   "metadata": {},
   "outputs": [
    {
     "name": "stdout",
     "output_type": "stream",
     "text": [
      "Initialized fingerprint builder with overlap_factor 64 and window_size 0.37\n",
      "Initialized audio identification\n",
      "Reading fingerprints from fingerprints/fingerprints_32.pkl\n",
      "Loading fingerprints to hash table\n",
      "Matching queries in query_recordings...\n"
     ]
    },
    {
     "name": "stderr",
     "output_type": "stream",
     "text": [
      "100%|██████████| 213/213 [01:06<00:00,  3.22it/s]\n"
     ]
    }
   ],
   "source": [
    "aid = audioIdentification()\n",
    "aid.overlap_factor=32\n",
    "aid.search_type='complex'\n",
    "\n",
    "aid(query_path, fingerprint_path, output_path)"
   ]
  },
  {
   "cell_type": "code",
   "execution_count": 9,
   "id": "19b24a12-c430-4f17-8b14-2c162301c11c",
   "metadata": {},
   "outputs": [],
   "source": [
    "path = 'complex_32_query_output.txt'\n",
    "d = []\n",
    "with open(path,'rb') as source:\n",
    "    for line in source:\n",
    "        # print(line)\n",
    "        fields = line.decode(\"utf-8\").split('\\t')\n",
    "        d.append(fields)\n",
    "\n",
    "df = pd.DataFrame(d)\n",
    "\n",
    "df.columns=['actual', 'rank1', 'rank2', 'rank3']\n",
    "\n",
    "df = df.fillna('NA')"
   ]
  },
  {
   "cell_type": "code",
   "execution_count": 11,
   "id": "cee8dda8-b181-408a-8fc4-55d73096527f",
   "metadata": {},
   "outputs": [],
   "source": [
    "df['rank1'] = df['rank1'].apply(lambda x: x.split('.wav')[0])\n",
    "df['rank2'] = df['rank2'].apply(lambda x: x.split('.wav')[0])\n",
    "df['rank3'] = df['rank3'].apply(lambda x: x.split('.wav')[0])\n",
    "\n",
    "rank1_count = df.apply(lambda x: x.rank1 in x.actual, axis=1).sum()\n",
    "rank2_count = df.apply(lambda x: (x.rank1 in x.actual) | (x.rank2 in x.actual), axis=1).sum()\n",
    "rank3_count = df.apply(lambda x: (x.rank1 in x.actual) | (x.rank2 in x.actual) | (x.rank3 in x.actual), axis=1).sum()"
   ]
  },
  {
   "cell_type": "code",
   "execution_count": 12,
   "id": "c74c9ac5-e867-404d-80b7-66947519ccfa",
   "metadata": {},
   "outputs": [
    {
     "data": {
      "text/plain": [
       "0.07981220657276995"
      ]
     },
     "execution_count": 12,
     "metadata": {},
     "output_type": "execute_result"
    }
   ],
   "source": [
    "rank1_count/df.shape[0]"
   ]
  },
  {
   "cell_type": "code",
   "execution_count": 13,
   "id": "12bb3890-dd9e-4ed0-8e36-298c54005393",
   "metadata": {},
   "outputs": [
    {
     "data": {
      "text/plain": [
       "0.107981220657277"
      ]
     },
     "execution_count": 13,
     "metadata": {},
     "output_type": "execute_result"
    }
   ],
   "source": [
    "rank2_count/df.shape[0]"
   ]
  },
  {
   "cell_type": "code",
   "execution_count": 14,
   "id": "7a2576bf-3575-494e-b239-5bbed87dae5b",
   "metadata": {},
   "outputs": [
    {
     "data": {
      "text/plain": [
       "0.11032863849765258"
      ]
     },
     "execution_count": 14,
     "metadata": {},
     "output_type": "execute_result"
    }
   ],
   "source": [
    "rank3_count/df.shape[0]"
   ]
  },
  {
   "cell_type": "markdown",
   "id": "c6467c0d-039d-49ba-aa77-8ac882841ffd",
   "metadata": {},
   "source": [
    "### Test overlap factor 64, simple search algo"
   ]
  },
  {
   "cell_type": "code",
   "execution_count": 5,
   "id": "dc4f76b9-1890-4cfe-9f24-618cb2b45645",
   "metadata": {},
   "outputs": [
    {
     "name": "stdout",
     "output_type": "stream",
     "text": [
      "Initialized fingerprint builder with overlap_factor 64 and window_size 0.37\n",
      "Initialized audio identification\n",
      "Reading fingerprints from fingerprints/fingerprints_64.pkl\n",
      "Loading fingerprints to hash table\n",
      "Matching queries in query_recordings...\n"
     ]
    },
    {
     "name": "stderr",
     "output_type": "stream",
     "text": [
      "100%|██████████| 213/213 [01:47<00:00,  1.99it/s]\n"
     ]
    }
   ],
   "source": [
    "aid = audioIdentification()\n",
    "aid.overlap_factor=64\n",
    "aid.search_type='simple'\n",
    "aid(query_path, fingerprint_path, output_path)"
   ]
  },
  {
   "cell_type": "code",
   "execution_count": 8,
   "id": "c33640b1-d6f9-4ee7-aa34-5dfce3adb1bb",
   "metadata": {},
   "outputs": [],
   "source": [
    "path = 'simple_64_query_output.txt'\n",
    "\n",
    "d = []\n",
    "with open(path,'rb') as source:\n",
    "    for line in source:\n",
    "        # print(line)\n",
    "        fields = line.decode(\"utf-8\").split('\\t')\n",
    "        d.append(fields)\n",
    "\n",
    "df = pd.DataFrame(d)\n",
    "\n",
    "df.columns=['actual', 'rank1', 'rank2', 'rank3']\n",
    "\n",
    "df = df.fillna('NA')\n",
    "\n",
    "def isin_col(x, y):\n",
    "    x.split('.wav')[0]"
   ]
  },
  {
   "cell_type": "code",
   "execution_count": 9,
   "id": "1b34500c-852f-44cf-b238-62e08f42d493",
   "metadata": {},
   "outputs": [
    {
     "name": "stdout",
     "output_type": "stream",
     "text": [
      "Accuracy@1: 0.0892018779342723\n",
      "Accuracy@2: 0.11267605633802817\n",
      "Accuracy@3: 0.11267605633802817\n"
     ]
    }
   ],
   "source": [
    "df['rank1'] = df['rank1'].apply(lambda x: x.split('.wav')[0])\n",
    "df['rank2'] = df['rank2'].apply(lambda x: x.split('.wav')[0])\n",
    "df['rank3'] = df['rank3'].apply(lambda x: x.split('.wav')[0])\n",
    "\n",
    "rank1_count = df.apply(lambda x: x.rank1 in x.actual, axis=1).sum()\n",
    "rank2_count = df.apply(lambda x: (x.rank1 in x.actual) | (x.rank2 in x.actual), axis=1).sum()\n",
    "rank3_count = df.apply(lambda x: (x.rank1 in x.actual) | (x.rank2 in x.actual) | (x.rank3 in x.actual), axis=1).sum()\n",
    "\n",
    "print(f\"Accuracy@1: {rank1_count/df.shape[0]}\")\n",
    "print(f\"Accuracy@2: {rank2_count/df.shape[0]}\")\n",
    "print(f\"Accuracy@3: {rank3_count/df.shape[0]}\")"
   ]
  },
  {
   "cell_type": "code",
   "execution_count": null,
   "id": "20ad1d56-9076-4b2a-a975-6d9080058138",
   "metadata": {},
   "outputs": [],
   "source": []
  },
  {
   "cell_type": "code",
   "execution_count": null,
   "id": "f8b75077-233d-426b-bdf1-d7c7090f9d74",
   "metadata": {},
   "outputs": [],
   "source": []
  },
  {
   "cell_type": "markdown",
   "id": "34449129-5563-4ce8-9d73-2a64722df95a",
   "metadata": {},
   "source": [
    "### Test overlap factor 64, complex search algo"
   ]
  },
  {
   "cell_type": "code",
   "execution_count": 18,
   "id": "af3ed94a-bc19-4280-870a-58bd19d4ddb2",
   "metadata": {},
   "outputs": [
    {
     "name": "stdout",
     "output_type": "stream",
     "text": [
      "Initialized fingerprint builder with overlap_factor 64 and window_size 0.37\n",
      "Initialized audio identification\n",
      "Reading fingerprints from fingerprints/fingerprints_64.pkl\n",
      "Loading fingerprints to hash table\n",
      "Matching queries in query_recordings...\n"
     ]
    },
    {
     "name": "stderr",
     "output_type": "stream",
     "text": [
      "100%|██████████| 213/213 [01:45<00:00,  2.02it/s]\n"
     ]
    }
   ],
   "source": [
    "aid = audioIdentification()\n",
    "aid.overlap_factor=64\n",
    "aid.search_type='complex'\n",
    "aid(query_path, fingerprint_path, output_path)"
   ]
  },
  {
   "cell_type": "code",
   "execution_count": 12,
   "id": "227c761c-8adc-4f50-b7ed-95321f449544",
   "metadata": {},
   "outputs": [],
   "source": [
    "path = 'complex_64_query_output.txt'"
   ]
  },
  {
   "cell_type": "code",
   "execution_count": 13,
   "id": "302ae551-2300-4c6f-abac-b7aa7ce5e841",
   "metadata": {},
   "outputs": [],
   "source": [
    "d = []\n",
    "with open(path,'rb') as source:\n",
    "    for line in source:\n",
    "        # print(line)\n",
    "        fields = line.decode(\"utf-8\").split('\\t')\n",
    "        d.append(fields)\n",
    "\n",
    "df = pd.DataFrame(d)\n",
    "\n",
    "df.columns=['actual', 'rank1', 'rank2', 'rank3']\n",
    "\n",
    "df = df.fillna('NA')\n",
    "\n",
    "def isin_col(x, y):\n",
    "    x.split('.wav')[0]"
   ]
  },
  {
   "cell_type": "code",
   "execution_count": 14,
   "id": "0b2ffeb8-da43-4a07-acc8-9731c32c55bd",
   "metadata": {},
   "outputs": [
    {
     "name": "stdout",
     "output_type": "stream",
     "text": [
      "Accuracy@1: 0.14084507042253522\n",
      "Accuracy@2: 0.19248826291079812\n",
      "Accuracy@3: 0.20657276995305165\n"
     ]
    }
   ],
   "source": [
    "df['rank1'] = df['rank1'].apply(lambda x: x.split('.wav')[0])\n",
    "df['rank2'] = df['rank2'].apply(lambda x: x.split('.wav')[0])\n",
    "df['rank3'] = df['rank3'].apply(lambda x: x.split('.wav')[0])\n",
    "\n",
    "rank1_count = df.apply(lambda x: x.rank1 in x.actual, axis=1).sum()\n",
    "rank2_count = df.apply(lambda x: (x.rank1 in x.actual) | (x.rank2 in x.actual), axis=1).sum()\n",
    "rank3_count = df.apply(lambda x: (x.rank1 in x.actual) | (x.rank2 in x.actual) | (x.rank3 in x.actual), axis=1).sum()\n",
    "\n",
    "print(f\"Accuracy@1: {rank1_count/df.shape[0]}\")\n",
    "print(f\"Accuracy@2: {rank2_count/df.shape[0]}\")\n",
    "print(f\"Accuracy@3: {rank3_count/df.shape[0]}\")"
   ]
  },
  {
   "cell_type": "code",
   "execution_count": null,
   "id": "99c109aa-aae4-49a7-8bf8-8ee669d29367",
   "metadata": {},
   "outputs": [],
   "source": []
  }
 ],
 "metadata": {
  "kernelspec": {
   "display_name": "Python 3 (ipykernel)",
   "language": "python",
   "name": "python3"
  },
  "language_info": {
   "codemirror_mode": {
    "name": "ipython",
    "version": 3
   },
   "file_extension": ".py",
   "mimetype": "text/x-python",
   "name": "python",
   "nbconvert_exporter": "python",
   "pygments_lexer": "ipython3",
   "version": "3.10.13"
  }
 },
 "nbformat": 4,
 "nbformat_minor": 5
}
